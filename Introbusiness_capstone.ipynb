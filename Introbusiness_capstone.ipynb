{
 "cells": [
  {
   "cell_type": "markdown",
   "metadata": {},
   "source": [
    "### **1. Description of the problem and a discussion of the background.** \n",
    "####  A. INTRODUCTION / BUSINESS PROBLEM: \n",
    "----------------------------------------------"
   ]
  },
  {
   "cell_type": "markdown",
   "metadata": {},
   "source": [
    "### **ANALYSIS OF DATA VENUES IN MILAN FOR THE FASHION INDUSTRY**"
   ]
  },
  {
   "cell_type": "markdown",
   "metadata": {},
   "source": [
    "Milan, in Italian, Milano, is a city in northern Italy, capital of Lombardy, and the second-most populous city in Italy after Rome. Milan served as the capital of the Western Roman Empire, the Duchy of Milan and the Kingdom of Lombardy–Venetia. The city proper has a population of about 1.4 million while its metropolitan city has 3.26 million inhabitants. It is a continuously built-up urban area, that stretches well beyond the boundaries of the administrative metropolitan city, is the fourth largest in the EU with 5.27 million inhabitants. The population within the wider Milan metropolitan area, also known as Greater Milan, is estimated at 8.2 million, making it by far the largest metropolitan area in Italy and the 4th largest in the EU.\n",
    "\n",
    "\n",
    "Milan is considered a leading alpha global city, with strengths in the field of the art, commerce, design, education, entertainment, fashion, finance, healthcare, media, services,  research and tourism. Its business district hosts Italy's stock exchange, and the headquarters of national and international banks and companies. In terms of GDP, it has the second-largest economy among EU cities after Paris, and is the wealthiest among EU non-capital cities. Milan is considered part of the Blue Banana and one of the \"Four Motors for Europe\"."
   ]
  },
  {
   "cell_type": "markdown",
   "metadata": {},
   "source": [
    "### **Fashion and design**"
   ]
  },
  {
   "cell_type": "markdown",
   "metadata": {},
   "source": [
    "The city has been recognized as one of the world's four fashion capitals thanks to several international events and fairs, including Milan Fashion Week and the Milan Furniture Fair, which are currently among the world's biggest in terms of revenue, visitors and growth. It hosted the Universal Exposition in 1906 and 2015. The city hosts numerous cultural institutions, academies and universities, with 11% of the national total enrolled students. Milan is the destination of ***8 million overseas visitors every year***, attracted by its museums and art galleries that include some of the most important collections in the world, including major works by Leonardo da Vinci. The city is served by many luxury hotels and is the fifth-most starred in the world by Michelin Guide. The city is home to two of Europe's most successful football teams, A.C. Milan and F.C. Internazionale, and one of Europe's main basketball teams, Olimpia Milano. Milan will host the 2026 Winter Olympics together with Cortina d'Ampezzo.\n",
    "\n",
    "Milan is widely regarded as a global capital in industrial design, fashion and architecture. In the 1950s and 60s, as the main industrial centre of Italy and one of Europe's most dynamic cities, Milan became a world capital of design and architecture. There was such a revolutionary change that Milan's fashion exports accounted for 726 million US dollars in 1952, and by 1955 that number grew to US$72.5 billion. \n",
    "\n",
    "Modern skyscrapers, such as the Pirelli Tower and the Torre Velasca were built, and artists such as Bruno Munari, Lucio Fontana, Enrico Castellani and Piero Manzoni gathered in the city. \n",
    "\n",
    "Today, Milan is still particularly well known for its high-quality furniture and interior design industry. The city is home to FieraMilano, Europe's largest permanent trade exhibition, and Salone Internazionale del Mobile, one of the most prestigious international furniture and design fairs.\n",
    "\n",
    "\n",
    "Milan is also regarded as one of the fashion capitals of the world, along with New York City, Paris, and London. Milan is synonymous with the Italian prêt-à-porter industry, as many of the most famous Italian fashion brands, such as ***Valentino, Gucci, Versace, Prada, Armani and Dolce & Gabbana,*** are headquartered in the city.\n",
    "\n",
    "_Numerous international fashion labels also operate shops in Milan_. \n",
    "\n",
    "Furthermore, the city hosts the Milan Fashion Week twice a year, one of the most important events in the international fashion system. \n",
    "\n",
    "Therefore, for anyone wishing to be recognized on a large scale in fashion, Milan would be one of the places to consider. \n",
    "\n",
    "I have lived in Italy for close to two years and I have been very fascinated by the fashion industry all along and more especially after visiting Milan, whose energy is bustling high in this domain. So it makes a lot of sense for me to work on this as a project.\n",
    "\n",
    "So, in this project, I will be exploiting the neighborhoods in Milan, known as Districts, to find the most popular areas that would be good places to consider setting up a fashion shop or fashion industry, so as to get the maximum attention possible.\n",
    "\n",
    "\n",
    "\n",
    "\n"
   ]
  },
  {
   "cell_type": "code",
   "execution_count": null,
   "metadata": {},
   "outputs": [],
   "source": []
  }
 ],
 "metadata": {
  "kernelspec": {
   "display_name": "Python",
   "language": "python",
   "name": "conda-env-python-py"
  },
  "language_info": {
   "codemirror_mode": {
    "name": "ipython",
    "version": 3
   },
   "file_extension": ".py",
   "mimetype": "text/x-python",
   "name": "python",
   "nbconvert_exporter": "python",
   "pygments_lexer": "ipython3",
   "version": "3.6.10"
  }
 },
 "nbformat": 4,
 "nbformat_minor": 4
}
